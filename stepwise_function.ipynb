{
 "cells": [
  {
   "cell_type": "code",
   "execution_count": 13,
   "metadata": {},
   "outputs": [
    {
     "data": {
      "text/plain": [
       "10600.0"
      ]
     },
     "execution_count": 13,
     "metadata": {},
     "output_type": "execute_result"
    }
   ],
   "source": [
    "# pre_approved_limit = 10000\n",
    "# def step_function(request):\n",
    "    \n",
    "#     if request > pre_approved_limit:\n",
    "#         interest = 0.03\n",
    "#         approved_credit = (request * interest) + pre_approved_limit\n",
    "\n",
    "#         return approved_credit\n",
    "#     else:\n",
    "#         return request\n",
    "# step_function(20000)"
   ]
  },
  {
   "cell_type": "markdown",
   "metadata": {},
   "source": [
    "# **Piecewise Function**\n",
    "\n",
    "In its simplest terms, a Piecewise Function is a mathematical function wherein different rules apply to different parts or 'pieces' of the domain. Each piece possesses its own equation or function."
   ]
  },
  {
   "cell_type": "code",
   "execution_count": 54,
   "metadata": {},
   "outputs": [
    {
     "data": {
      "text/plain": [
       "40"
      ]
     },
     "execution_count": 54,
     "metadata": {},
     "output_type": "execute_result"
    }
   ],
   "source": [
    "def custom_stepwise_function(time_index):\n",
    "    if time_index < 5:\n",
    "        return 10 \n",
    "    elif time_index >= 5 and time_index < 10:\n",
    "        return 20\n",
    "    elif time_index >= 10 and time_index < 20:\n",
    "        return 30\n",
    "    else:\n",
    "        return 40\n",
    "custom_stepwise_function(3)\n",
    "custom_stepwise_function(21)\n",
    "custom_stepwise_function(56)\n",
    "\n",
    "\n"
   ]
  },
  {
   "cell_type": "markdown",
   "metadata": {},
   "source": [
    "Let's say you run a taxi service that charges £5 for pickup, and then £2 for every mile travelled. The cost function, C(x), can be summarised as a piecewise function:"
   ]
  },
  {
   "cell_type": "code",
   "execution_count": 37,
   "metadata": {},
   "outputs": [
    {
     "name": "stdout",
     "output_type": "stream",
     "text": [
      "None\n"
     ]
    }
   ],
   "source": [
    "# def cost_function(x):\n",
    "#     pickup_locations = ['Dadar','Matunga','']\n",
    "#     pickup_cost = 5\n",
    "#     travelling_charge = 2*x\n",
    "#     for km in range(x):\n",
    "#         if x > 0:\n",
    "#             return (pickup_cost + travelling_charge)\n",
    "#         else:\n",
    "#             return 0\n",
    "        \n",
    "# print(cost_function(0))"
   ]
  },
  {
   "cell_type": "code",
   "execution_count": 38,
   "metadata": {},
   "outputs": [
    {
     "name": "stdout",
     "output_type": "stream",
     "text": [
      "For traveling 0 miles, the cost is £5\n",
      "For traveling 10 miles, the cost is £25\n",
      "For traveling -5 miles, the cost is £None\n"
     ]
    }
   ],
   "source": [
    "def taxi_cost(x):\n",
    "    if x > 0:\n",
    "        return 5 + 2 * x\n",
    "    elif x == 0:\n",
    "        return 5\n",
    "    else:\n",
    "        return None  # Handle negative distance (invalid input) as needed\n",
    "\n",
    "# Test the taxi_cost function with different distances\n",
    "distance = 0  # Test case 1: Customer hires the taxi but travels 0 miles\n",
    "cost = taxi_cost(distance)\n",
    "print(f\"For traveling {distance} miles, the cost is £{cost}\")\n",
    "\n",
    "distance = 10  # Test case 2: Customer travels 10 miles\n",
    "cost = taxi_cost(distance)\n",
    "print(f\"For traveling {distance} miles, the cost is £{cost}\")\n",
    "\n",
    "distance = -5  # Test case 3: Invalid input (negative distance)\n",
    "cost = taxi_cost(distance)\n",
    "print(f\"For traveling {distance} miles, the cost is £{cost}\")\n"
   ]
  },
  {
   "cell_type": "markdown",
   "metadata": {},
   "source": [
    "As an example, suppose you're modelling the drainage of water from a tank. The rate of drainage might be fast when the tank is full, represented by the function f1(x)\n",
    ", and slows down as the water level drops, best represented by the function f2(x)\n",
    ". Together, they constitute a piecewise function modelling the drainage system, where f1(x)\n",
    " applies when the tank is more than half-full, and f2(x)\n",
    " applies otherwise. By understanding and adeptly applying piecewise functions, engineers can solve complex problems, optimising and innovating designs for a broad range of applications."
   ]
  },
  {
   "cell_type": "code",
   "execution_count": 52,
   "metadata": {},
   "outputs": [
    {
     "name": "stdout",
     "output_type": "stream",
     "text": [
      "(8, 16)\n"
     ]
    }
   ],
   "source": [
    "import time\n",
    "def drainage_of_water_fast(drainage_rate, tank_capacity):\n",
    "    water_level = tank_capacity  \n",
    "    for water_level in range(tank_capacity):\n",
    "        if water_level:\n",
    "            water_level -= 1\n",
    "            \n",
    "            drainage_rate = 2*water_level\n",
    "        if (water_level == [tank_capacity % 2 ==0]):\n",
    "            break\n",
    "        \n",
    "    return water_level, drainage_rate\n",
    "print(drainage_of_water_fast(2, 10))\n",
    "\n"
   ]
  },
  {
   "cell_type": "markdown",
   "metadata": {},
   "source": [
    " Employ the model for prediction, control, or analysis as needed. Be aware of its limitations - remember that it may not perfectly represent the actual system due to simplifications. As an example, suppose you're modelling the drainage of water from a tank. The rate of drainage might be fast when the tank is full, represented by the function \n",
    ", and slows down as the water level drops, best represented by the function \n",
    ". Together, they constitute a piecewise function modelling the drainage system, where \n",
    " applies when the tank is more than half-full, and \n",
    " applies otherwise. By understanding and adeptly applying piecewise functions, engineers can solve complex problems, optimising and innovating designs for a broad range of applications."
   ]
  },
  {
   "cell_type": "code",
   "execution_count": 53,
   "metadata": {},
   "outputs": [
    {
     "name": "stdout",
     "output_type": "stream",
     "text": [
      "When the tank is 70.0% full, the drainage rate is 7.0 units per minute.\n",
      "When the tank is 30.0% full, the drainage rate is 0.6 units per minute.\n"
     ]
    }
   ],
   "source": [
    "def drainage_rate_full(tank_level):\n",
    "    #Function for drainage rate when tank is more than half-full\n",
    "    return 10*tank_level\n",
    "\n",
    "def drainage_rate_slow(tank_level):\n",
    "    #Function for drainage rate when tank is less than or equal to half \n",
    "    return 2*tank_level\n",
    "\n",
    "def total_drainage_rate(tank_level):\n",
    "    #Calculate the total drainage rate based on the tank level\n",
    "    if tank_level > 0.5:\n",
    "        return drainage_rate_full(tank_level)\n",
    "    else:\n",
    "        return drainage_rate_slow(tank_level)\n",
    "    \n",
    "# Test the drainage rate functions\n",
    "tank_level = 0.7  # Example: Tank is more than half-full (70%)\n",
    "rate = total_drainage_rate(tank_level)\n",
    "print(f\"When the tank is {tank_level * 100}% full, the drainage rate is {rate} units per minute.\")\n",
    "\n",
    "tank_level = 0.3  # Example: Tank is less than or equal to half-full (30%)\n",
    "rate = total_drainage_rate(tank_level)\n",
    "print(f\"When the tank is {tank_level * 100}% full, the drainage rate is {rate} units per minute.\")\n"
   ]
  },
  {
   "cell_type": "markdown",
   "metadata": {},
   "source": [
    "# **Piecewise Function using matplotlib**"
   ]
  },
  {
   "cell_type": "code",
   "execution_count": 67,
   "metadata": {},
   "outputs": [
    {
     "data": {
      "image/png": "[encoded data removed]",
      "text/plain": [
       "<Figure size 640x480 with 1 Axes>"
      ]
     },
     "metadata": {},
     "output_type": "display_data"
    }
   ],
   "source": [
    "import numpy as np\n",
    "import matplotlib.pyplot as plt\n",
    "\n",
    "def piecewise_fun(n, x):\n",
    "    if n <= x <= n+1:\n",
    "        return float(x) - n\n",
    "    elif n+1 <= x <= n+2:\n",
    "        return 2 -float(x) + n\n",
    "    else:\n",
    "        return 0.0\n",
    "vfun = np.vectorize(piecewise_fun)\n",
    "\n",
    "x = np.linspace(-10,10,1000)\n",
    "y = vfun(3, x)\n",
    "\n",
    "plt.plot(x,y,'-')\n",
    "plt.show()"
   ]
  },
  {
   "cell_type": "code",
   "execution_count": 69,
   "metadata": {},
   "outputs": [
    {
     "data": {
      "image/png": "[encoded data removed]",
      "text/plain": [
       "<Figure size 640x480 with 1 Axes>"
      ]
     },
     "metadata": {},
     "output_type": "display_data"
    }
   ],
   "source": [
    "def squared_piecewise_function(x,n):\n",
    "\n",
    "    if n <= x <= n+2:\n",
    "        return float(10*x**2)\n",
    "    elif n+2 <= x <= n+4:\n",
    "        return float(2*x**2)\n",
    "    else:\n",
    "        return 0.0\n",
    "\n",
    "vfun = np.vectorize(squared_piecewise_function)\n",
    "\n",
    "x = np.linspace(-20,10,1000)\n",
    "y = vfun(3,x)\n",
    "\n",
    "plt.plot(x,y,'-')\n",
    "plt.show()"
   ]
  },
  {
   "cell_type": "code",
   "execution_count": null,
   "metadata": {},
   "outputs": [],
   "source": []
  }
 ],
 "metadata": {
  "kernelspec": {
   "display_name": "atgai_prophet",
   "language": "python",
   "name": "python3"
  },
  "language_info": {
   "codemirror_mode": {
    "name": "ipython",
    "version": 3
   },
   "file_extension": ".py",
   "mimetype": "text/x-python",
   "name": "python",
   "nbconvert_exporter": "python",
   "pygments_lexer": "ipython3",
   "version": "3.10.13"
  }
 },
 "nbformat": 4,
 "nbformat_minor": 2
}
